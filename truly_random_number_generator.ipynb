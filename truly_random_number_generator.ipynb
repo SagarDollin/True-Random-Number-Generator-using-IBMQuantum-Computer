{
 "cells": [
  {
   "cell_type": "code",
   "execution_count": 1,
   "metadata": {},
   "outputs": [],
   "source": [
    "from qiskit import *\n",
    "from qiskit.visualization import plot_histogram"
   ]
  },
  {
   "cell_type": "code",
   "execution_count": 2,
   "metadata": {},
   "outputs": [],
   "source": [
    "#Here we create a circuit with 1 qubit and 1 classical bit\n",
    "def createCircuit():\n",
    "    qr = QuantumRegister(1,'q')\n",
    "    cr = ClassicalRegister(1,'c')\n",
    "    qc = QuantumCircuit(qr,cr)\n",
    "    qc.h(0)                               #put the qubit in super position\n",
    "    qc.measure(0,0)                       #measure the qubit, the outcome is either 0 or 1 (random)\n",
    "    qc.draw()\n",
    "    return qc\n"
   ]
  },
  {
   "cell_type": "code",
   "execution_count": 3,
   "metadata": {},
   "outputs": [],
   "source": [
    "#Let's load our IBMQ account to run the above circuit on a real Quantum Computer\n",
    "def loadAccount():\n",
    "    print(\"Loading IBMQ Account...\")\n",
    "    IBMQ.load_account()\n",
    "    provider = IBMQ.get_provider(hub='ibm-q')\n",
    "    print(\"Account Loaded and ready to get backend\")\n",
    "    return provider\n",
    "    "
   ]
  },
  {
   "cell_type": "code",
   "execution_count": 4,
   "metadata": {},
   "outputs": [],
   "source": [
    "#We run the above circuit on a quantum computer n times i.e., n shots\n",
    "def execute_onIBMQ(qc,n,provider):\n",
    "    from qiskit.providers.ibmq import least_busy\n",
    "    print(\"Fetching least busy backend...\")\n",
    "    backend = least_busy(provider.backends(filters=lambda b: b.configuration().n_qubits >= 1 and\n",
    "                                       not b.configuration().simulator and b.status().operational==True))\n",
    "    print(\"Backend available :\",backend)\n",
    "    print(\"Job execution initiated...\")\n",
    "    job_exp = execute(qc, backend=backend, shots=n, memory=True).result()\n",
    "    \n",
    "    \n",
    "    return job_exp"
   ]
  },
  {
   "cell_type": "code",
   "execution_count": 5,
   "metadata": {},
   "outputs": [],
   "source": [
    "def generateTrueRandomNumber(n):\n",
    "    \n",
    "    qc = C=createCircuit()\n",
    "    provider = loadAccount()\n",
    "    result = execute_onIBMQ(qc,n,provider)         #store the result \n",
    "    \n",
    "    random_binary = \"\"\n",
    "    random_binary = random_binary.join(result.get_memory())  #on every shot we got either a 0 or 1, we join all those results into one string\n",
    "    \n",
    "    true_random_number = int(random_binary,2)       #convert that string to an integer, which is our true random number\n",
    "    \n",
    "    return true_random_number                   \n",
    "\n",
    "    "
   ]
  },
  {
   "cell_type": "code",
   "execution_count": 6,
   "metadata": {
    "scrolled": true
   },
   "outputs": [
    {
     "name": "stdout",
     "output_type": "stream",
     "text": [
      "Enter the value of n 12\n",
      "We generate a random number between 0 to (2^n)-1 i.e, 0  to  4095\n",
      "Loading IBMQ Account...\n"
     ]
    },
    {
     "name": "stderr",
     "output_type": "stream",
     "text": [
      "c:\\users\\hp-pc\\appdata\\local\\programs\\python\\python37\\lib\\site-packages\\qiskit\\providers\\ibmq\\ibmqfactory.py:192: UserWarning: Timestamps in IBMQ backend properties, jobs, and job results are all now in local time instead of UTC.\n",
      "  warnings.warn('Timestamps in IBMQ backend properties, jobs, and job results '\n"
     ]
    },
    {
     "name": "stdout",
     "output_type": "stream",
     "text": [
      "Account Loaded and ready to get backend\n",
      "Fetching least busy backend...\n",
      "Backend available : ibmq_armonk\n",
      "Job execution initiated...\n",
      "The random number generated is :  2978\n"
     ]
    }
   ],
   "source": [
    "n = int(input(\"Enter the value of n \"))\n",
    "print(\"We generate a random number between 0 to (2^n)-1 i.e,\",0,\" to \", 2**n-1)\n",
    "true_random_number = generateTrueRandomNumber(n)\n",
    "print(\"The random number generated is : \",true_random_number)\n"
   ]
  },
  {
   "cell_type": "code",
   "execution_count": null,
   "metadata": {},
   "outputs": [],
   "source": []
  }
 ],
 "metadata": {
  "kernelspec": {
   "display_name": "Python 3",
   "language": "python",
   "name": "python3"
  },
  "language_info": {
   "codemirror_mode": {
    "name": "ipython",
    "version": 3
   },
   "file_extension": ".py",
   "mimetype": "text/x-python",
   "name": "python",
   "nbconvert_exporter": "python",
   "pygments_lexer": "ipython3",
   "version": "3.7.0"
  }
 },
 "nbformat": 4,
 "nbformat_minor": 4
}
